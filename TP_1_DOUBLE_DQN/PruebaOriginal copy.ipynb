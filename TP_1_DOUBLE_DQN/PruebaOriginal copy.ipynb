{
  "cells": [
    {
      "cell_type": "code",
      "execution_count": 1,
      "metadata": {},
      "outputs": [],
      "source": [
        "import torch\n",
        "import torch.nn as nn\n",
        "import torch.optim as optim\n",
        "import gymnasium as gym\n",
        "import random\n",
        "import numpy as np\n",
        "import collections # Para el Replay Buffer (deque)\n",
        "import matplotlib.pyplot as plt # Para graficar"
      ]
    },
    {
      "cell_type": "code",
      "execution_count": 2,
      "metadata": {},
      "outputs": [],
      "source": [
        "plt.rcParams.update({\n",
        "    'figure.facecolor': '#2b2b2b',     # fondo exterior\n",
        "    'axes.facecolor':   '#2b2b2b',     # fondo del área del gráfico\n",
        "    'axes.edgecolor':   '#cccccc',     # borde de los ejes\n",
        "    'axes.labelcolor':  '#cccccc',     # etiquetas de los ejes\n",
        "    'xtick.color':      '#cccccc',     # color de los números en el eje X\n",
        "    'ytick.color':      '#cccccc',     # color de los números en el eje Y\n",
        "    'text.color':       '#cccccc',     # color del título y textos\n",
        "    'grid.color':       '#444444',     # color de la grilla\n",
        "})\n"
      ]
    },
    {
      "cell_type": "code",
      "execution_count": null,
      "metadata": {},
      "outputs": [],
      "source": [
        "# --- Hiperparámetros ---\n",
        "max_episodes = 1000\n",
        "max_steps_per_episode = 500\n",
        "learning_rate = 0.001\n",
        "gamma = 0.99\n",
        "epsilon_start = 1.0\n",
        "epsilon_end = 0.001 # <<<---\n",
        "epsilon_decay_episodes = 600\n",
        "buffer_size = 10_000\n",
        "batch_size = 64\n",
        "target_update_freq = 100\n",
        "print_every = 50\n",
        "smoothing_window = 50\n"
      ]
    },
    {
      "cell_type": "code",
      "execution_count": 4,
      "metadata": {},
      "outputs": [],
      "source": [
        "# --- Entorno ---\n",
        "env = gym.make('MountainCar-v0')\n",
        "n_observations = env.observation_space.shape[0]\n",
        "n_actions = env.action_space.n"
      ]
    },
    {
      "cell_type": "code",
      "execution_count": 5,
      "metadata": {},
      "outputs": [
        {
          "name": "stdout",
          "output_type": "stream",
          "text": [
            "Observaciones: 2, Acciones: 3\n"
          ]
        }
      ],
      "source": [
        "print(f\"Observaciones: {n_observations}, Acciones: {n_actions}\")"
      ]
    },
    {
      "cell_type": "code",
      "execution_count": 6,
      "metadata": {},
      "outputs": [],
      "source": [
        "# --- Red Neuronal (Q-Network) ---\n",
        "def create_q_network():\n",
        "    return nn.Sequential(\n",
        "        nn.Linear(n_observations, 128),\n",
        "        nn.ReLU(),\n",
        "        nn.Linear(128, 128),\n",
        "        nn.ReLU(),\n",
        "        nn.Linear(128, n_actions))"
      ]
    },
    {
      "cell_type": "code",
      "execution_count": 7,
      "metadata": {},
      "outputs": [
        {
          "data": {
            "text/plain": [
              "Sequential(\n",
              "  (0): Linear(in_features=2, out_features=128, bias=True)\n",
              "  (1): ReLU()\n",
              "  (2): Linear(in_features=128, out_features=128, bias=True)\n",
              "  (3): ReLU()\n",
              "  (4): Linear(in_features=128, out_features=3, bias=True)\n",
              ")"
            ]
          },
          "execution_count": 7,
          "metadata": {},
          "output_type": "execute_result"
        }
      ],
      "source": [
        "q_network = create_q_network()\n",
        "target_network = create_q_network()\n",
        "target_network.load_state_dict(q_network.state_dict())\n",
        "target_network.eval()"
      ]
    },
    {
      "cell_type": "code",
      "execution_count": 8,
      "metadata": {},
      "outputs": [],
      "source": [
        "optimizer = optim.Adam(q_network.parameters(), lr=learning_rate)\n",
        "loss_fn = nn.MSELoss()"
      ]
    },
    {
      "cell_type": "code",
      "execution_count": 9,
      "metadata": {},
      "outputs": [],
      "source": [
        "# --- Replay Buffer ---\n",
        "Transition = collections.namedtuple('Transition',\n",
        "                                    ('state', 'action', 'reward', 'next_state', 'done'))\n",
        "replay_buffer = collections.deque(maxlen=buffer_size)"
      ]
    },
    {
      "cell_type": "code",
      "execution_count": 10,
      "metadata": {},
      "outputs": [],
      "source": [
        "# --- Función para actualizar la Red Objetivo ---\n",
        "def update_target_network():\n",
        "    target_network.load_state_dict(q_network.state_dict())"
      ]
    },
    {
      "cell_type": "code",
      "execution_count": 11,
      "metadata": {},
      "outputs": [],
      "source": [
        "# --- Entrenamiento ---\n",
        "global_step = 0\n",
        "epsilon = epsilon_start\n",
        "episode_rewards_history = []"
      ]
    },
    {
      "cell_type": "code",
      "execution_count": 12,
      "metadata": {},
      "outputs": [
        {
          "name": "stdout",
          "output_type": "stream",
          "text": [
            "--- Iniciando Entrenamiento (Double DQN) ---\n",
            "Episodio: 100/2000, Pasos: 200, Recompensa Promedio (100 ep): -200.00, Epsilon: 0.902\n",
            "Episodio: 200/2000, Pasos: 200, Recompensa Promedio (100 ep): -200.00, Epsilon: 0.803\n",
            "Episodio: 300/2000, Pasos: 200, Recompensa Promedio (100 ep): -200.00, Epsilon: 0.704\n",
            "Episodio: 400/2000, Pasos: 200, Recompensa Promedio (100 ep): -200.00, Epsilon: 0.605\n",
            "Episodio: 500/2000, Pasos: 200, Recompensa Promedio (100 ep): -200.00, Epsilon: 0.506\n",
            "Episodio: 600/2000, Pasos: 200, Recompensa Promedio (100 ep): -200.00, Epsilon: 0.407\n",
            "Episodio: 700/2000, Pasos: 200, Recompensa Promedio (100 ep): -200.00, Epsilon: 0.308\n",
            "Episodio: 800/2000, Pasos: 200, Recompensa Promedio (100 ep): -200.00, Epsilon: 0.209\n",
            "Episodio: 900/2000, Pasos: 200, Recompensa Promedio (100 ep): -200.00, Epsilon: 0.110\n",
            "Episodio: 1000/2000, Pasos: 200, Recompensa Promedio (100 ep): -200.00, Epsilon: 0.011\n",
            "Episodio: 1100/2000, Pasos: 200, Recompensa Promedio (100 ep): -200.00, Epsilon: 0.010\n",
            "Episodio: 1200/2000, Pasos: 200, Recompensa Promedio (100 ep): -200.00, Epsilon: 0.010\n",
            "Episodio: 1300/2000, Pasos: 200, Recompensa Promedio (100 ep): -200.00, Epsilon: 0.010\n",
            "Episodio: 1400/2000, Pasos: 200, Recompensa Promedio (100 ep): -200.00, Epsilon: 0.010\n",
            "Episodio: 1500/2000, Pasos: 200, Recompensa Promedio (100 ep): -200.00, Epsilon: 0.010\n",
            "Episodio: 1600/2000, Pasos: 200, Recompensa Promedio (100 ep): -200.00, Epsilon: 0.010\n",
            "Episodio: 1700/2000, Pasos: 200, Recompensa Promedio (100 ep): -200.00, Epsilon: 0.010\n",
            "Episodio: 1800/2000, Pasos: 200, Recompensa Promedio (100 ep): -200.00, Epsilon: 0.010\n",
            "Episodio: 1900/2000, Pasos: 200, Recompensa Promedio (100 ep): -200.00, Epsilon: 0.010\n",
            "Episodio: 2000/2000, Pasos: 200, Recompensa Promedio (100 ep): -200.00, Epsilon: 0.010\n",
            "--- Entrenamiento Finalizado ---\n"
          ]
        }
      ],
      "source": [
        "print(\"--- Iniciando Entrenamiento (Double DQN) ---\")\n",
        "for episode in range(max_episodes):\n",
        "    obs, info = env.reset()\n",
        "    state = torch.tensor(obs, dtype=torch.float32).unsqueeze(0)\n",
        "    episode_reward = 0\n",
        "    episode_steps = 0\n",
        "\n",
        "    for step in range(max_steps_per_episode):\n",
        "        global_step += 1\n",
        "        episode_steps += 1\n",
        "\n",
        "        if random.random() < epsilon:\n",
        "            action = torch.tensor([[env.action_space.sample()]], dtype=torch.long)\n",
        "        else:\n",
        "            with torch.no_grad():\n",
        "                q_values = q_network(state)\n",
        "                action = q_values.max(1)[1].view(1, 1)\n",
        "\n",
        "        next_obs, reward, terminated, truncated, info = env.step(action.item())\n",
        "        done = terminated or truncated\n",
        "        episode_reward += reward\n",
        "\n",
        "        reward_tensor = torch.tensor([reward], dtype=torch.float32)\n",
        "        if terminated:\n",
        "            next_state = None\n",
        "        else:\n",
        "            next_state = torch.tensor(next_obs, dtype=torch.float32).unsqueeze(0)\n",
        "        done_tensor = torch.tensor([done], dtype=torch.float32)\n",
        "\n",
        "        replay_buffer.append(Transition(state, action, reward_tensor, next_state, done_tensor))\n",
        "\n",
        "        state = next_state\n",
        "\n",
        "        if len(replay_buffer) >= batch_size:\n",
        "            transitions = random.sample(replay_buffer, batch_size)\n",
        "            batch = Transition(*zip(*transitions))\n",
        "\n",
        "            non_final_mask = torch.tensor(tuple(map(lambda s: s is not None, batch.next_state)), dtype=torch.bool)\n",
        "            non_final_next_states = torch.cat([s for s in batch.next_state if s is not None])\n",
        "\n",
        "            state_batch = torch.cat(batch.state)\n",
        "            action_batch = torch.cat(batch.action)\n",
        "            reward_batch = torch.cat(batch.reward)\n",
        "\n",
        "            state_action_values = q_network(state_batch).gather(1, action_batch).squeeze(1)\n",
        "\n",
        "            # --- INICIO DE LA MODIFICACIÓN DOUBLE DQN ---\n",
        "            next_state_values = torch.zeros(batch_size)\n",
        "            with torch.no_grad():\n",
        "                # 1. Seleccionar la MEJOR acción para s' usando la red ONLINE\n",
        "                online_next_q_values = q_network(non_final_next_states)\n",
        "                online_best_next_actions = online_next_q_values.max(1)[1].unsqueeze(1) # Indices (argmax)\n",
        "\n",
        "                # 2. Evaluar el valor Q de ESA acción seleccionada usando la red TARGET\n",
        "                target_next_q_values = target_network(non_final_next_states)\n",
        "                # Usamos gather para obtener Q_target(s', argmax_a' Q_online(s', a'))\n",
        "                selected_target_next_q_values = target_next_q_values.gather(1, online_best_next_actions).squeeze(1)\n",
        "\n",
        "                # Asignar los valores calculados con DDQN a las entradas correspondientes\n",
        "                next_state_values[non_final_mask] = selected_target_next_q_values\n",
        "            # --- FIN DE LA MODIFICACIÓN DOUBLE DQN ---\n",
        "\n",
        "            expected_state_action_values = reward_batch + (gamma * next_state_values)\n",
        "\n",
        "            loss = loss_fn(state_action_values, expected_state_action_values)\n",
        "\n",
        "            optimizer.zero_grad()\n",
        "            loss.backward()\n",
        "            optimizer.step()\n",
        "\n",
        "        if global_step % target_update_freq == 0:\n",
        "            update_target_network()\n",
        "\n",
        "        if done:\n",
        "            break\n",
        "\n",
        "    episode_rewards_history.append(episode_reward)\n",
        "    epsilon = max(epsilon_end, epsilon_start - (episode / epsilon_decay_episodes) * (epsilon_start - epsilon_end))\n",
        "\n",
        "    if (episode + 1) % print_every == 0:\n",
        "        avg_reward = np.mean(episode_rewards_history[-print_every:])\n",
        "        print(f'Episodio: {episode + 1}/{max_episodes}, Pasos: {episode_steps}, Recompensa Promedio ({print_every} ep): {avg_reward:.2f}, Epsilon: {epsilon:.3f}')\n",
        "\n",
        "print(\"--- Entrenamiento Finalizado ---\")"
      ]
    },
    {
      "cell_type": "code",
      "execution_count": 13,
      "metadata": {},
      "outputs": [
        {
          "name": "stdout",
          "output_type": "stream",
          "text": [
            "\n",
            "--- Generando Gráfico de Convergencia ---\n"
          ]
        },
        {
          "data": {
            "image/png": "[encoded data removed]",
            "text/plain": [
              "<Figure size 1200x600 with 1 Axes>"
            ]
          },
          "metadata": {},
          "output_type": "display_data"
        }
      ],
      "source": [
        "# --- Graficar Curva de Convergencia ---\n",
        "print(\"\\n--- Generando Gráfico de Convergencia ---\")\n",
        "plt.figure(figsize=(12, 6))\n",
        "plt.plot(range(1, max_episodes + 1), episode_rewards_history, label='Recompensa por Episodio', alpha=0.4)\n",
        "if len(episode_rewards_history) >= smoothing_window:\n",
        "    rewards_smoothed = np.convolve(episode_rewards_history, np.ones(smoothing_window)/smoothing_window, mode='valid')\n",
        "    plt.plot(range(smoothing_window, max_episodes + 1), rewards_smoothed, label=f'Media Móvil ({smoothing_window} episodios)', color='red', linewidth=2)\n",
        "plt.xlabel(\"Episodio\")\n",
        "plt.ylabel(\"Recompensa Total\")\n",
        "plt.title(\"Convergencia de Recompensa Double DQN en CartPole-v1\") # <-- Título actualizado\n",
        "plt.legend()\n",
        "plt.grid(True)\n",
        "plt.show()\n"
      ]
    },
    {
      "cell_type": "code",
      "execution_count": 14,
      "metadata": {},
      "outputs": [
        {
          "name": "stdout",
          "output_type": "stream",
          "text": [
            "\n",
            "--- prueba con la política aprendida (Evaluación) ---\n"
          ]
        }
      ],
      "source": [
        "# --- Test (Evaluación SIN RENDERIZADO) ---\n",
        "print(\"\\n--- prueba con la política aprendida (Evaluación) ---\")"
      ]
    },
    {
      "cell_type": "code",
      "execution_count": 15,
      "metadata": {},
      "outputs": [],
      "source": [
        "eval_env = gym.make('MountainCar-v0', render_mode=\"human\")\n",
        "total_eval_reward = 0\n",
        "num_eval_episodes = 10"
      ]
    },
    {
      "cell_type": "code",
      "execution_count": null,
      "metadata": {
        "colab": {
          "base_uri": "https://localhost:8080/",
          "height": 1000
        },
        "id": "Za6WX5UCkLpA",
        "outputId": "c3c9d3db-9d4f-4ca8-ce44-78d6095c5abd"
      },
      "outputs": [
        {
          "name": "stdout",
          "output_type": "stream",
          "text": [
            "Evaluación 1, Recompensa: -200.0, Pasos: 200\n",
            "Evaluación 2, Recompensa: -200.0, Pasos: 200\n",
            "Evaluación 3, Recompensa: -200.0, Pasos: 200\n",
            "Evaluación 4, Recompensa: -200.0, Pasos: 200\n",
            "Evaluación 5, Recompensa: -200.0, Pasos: 200\n",
            "Evaluación 6, Recompensa: -200.0, Pasos: 200\n",
            "Evaluación 7, Recompensa: -200.0, Pasos: 200\n",
            "Evaluación 8, Recompensa: -200.0, Pasos: 200\n",
            "Evaluación 9, Recompensa: -200.0, Pasos: 200\n",
            "Evaluación 10, Recompensa: -200.0, Pasos: 200\n",
            "\n",
            "Recompensa Promedio en Evaluación (10 episodios): -200.00\n"
          ]
        },
        {
          "ename": "",
          "evalue": "",
          "output_type": "error",
          "traceback": [
            "\u001b[1;31mThe Kernel crashed while executing code in the current cell or a previous cell. \n",
            "\u001b[1;31mPlease review the code in the cell(s) to identify a possible cause of the failure. \n",
            "\u001b[1;31mClick <a href='https://aka.ms/vscodeJupyterKernelCrash'>here</a> for more info. \n",
            "\u001b[1;31mView Jupyter <a href='command:jupyter.viewOutput'>log</a> for further details."
          ]
        }
      ],
      "source": [
        "\n",
        "\n",
        "\n",
        "for i in range(num_eval_episodes):\n",
        "    obs, info = eval_env.reset()\n",
        "    state = torch.tensor(obs, dtype=torch.float32).unsqueeze(0)\n",
        "    done = False\n",
        "    episode_eval_reward = 0\n",
        "    episode_steps = 0\n",
        "    while not done and episode_steps < max_steps_per_episode:\n",
        "        with torch.no_grad():\n",
        "            q_values = q_network(state)\n",
        "            action = q_values.max(1)[1].view(1, 1)\n",
        "\n",
        "        obs, reward, terminated, truncated, info = eval_env.step(action.item())\n",
        "        done = terminated or truncated\n",
        "        episode_eval_reward += reward\n",
        "        episode_steps += 1\n",
        "\n",
        "        if not done:\n",
        "            state = torch.tensor(obs, dtype=torch.float32).unsqueeze(0)\n",
        "\n",
        "    print(f'Evaluación {i+1}, Recompensa: {episode_eval_reward}, Pasos: {episode_steps}')\n",
        "    total_eval_reward += episode_eval_reward\n",
        "\n",
        "print(f'\\nRecompensa Promedio en Evaluación ({num_eval_episodes} episodios): {total_eval_reward / num_eval_episodes:.2f}')\n",
        "eval_env.close()\n",
        "env.close()"
      ]
    }
  ],
  "metadata": {
    "colab": {
      "provenance": []
    },
    "kernelspec": {
      "display_name": "Fabricio",
      "language": "python",
      "name": "python3"
    },
    "language_info": {
      "codemirror_mode": {
        "name": "ipython",
        "version": 3
      },
      "file_extension": ".py",
      "mimetype": "text/x-python",
      "name": "python",
      "nbconvert_exporter": "python",
      "pygments_lexer": "ipython3",
      "version": "3.10.13"
    }
  },
  "nbformat": 4,
  "nbformat_minor": 0
}
