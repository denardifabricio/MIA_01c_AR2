{
  "cells": [
    {
      "cell_type": "code",
      "execution_count": null,
      "metadata": {},
      "outputs": [],
      "source": [
        "import torch\n",
        "import torch.nn as nn\n",
        "import torch.optim as optim\n",
        "import gymnasium as gym\n",
        "import ale_py\n",
        "\n",
        "import random\n",
        "import numpy as np\n",
        "import collections # Para el Replay Buffer (deque)\n",
        "import matplotlib.pyplot as plt # Para graficar"
      ]
    },
    {
      "cell_type": "code",
      "execution_count": 3,
      "metadata": {},
      "outputs": [],
      "source": [
        "plt.rcParams.update({\n",
        "    'figure.facecolor': '#2b2b2b',     # fondo exterior\n",
        "    'axes.facecolor':   '#2b2b2b',     # fondo del área del gráfico\n",
        "    'axes.edgecolor':   '#cccccc',     # borde de los ejes\n",
        "    'axes.labelcolor':  '#cccccc',     # etiquetas de los ejes\n",
        "    'xtick.color':      '#cccccc',     # color de los números en el eje X\n",
        "    'ytick.color':      '#cccccc',     # color de los números en el eje Y\n",
        "    'text.color':       '#cccccc',     # color del título y textos\n",
        "    'grid.color':       '#444444',     # color de la grilla\n",
        "})"
      ]
    },
    {
      "cell_type": "code",
      "execution_count": 4,
      "metadata": {},
      "outputs": [],
      "source": [
        "# --- Hiperparámetros ---\n",
        "max_episodes = 1000\n",
        "max_steps_per_episode = 500\n",
        "learning_rate = 0.001\n",
        "gamma = 0.99\n",
        "epsilon_start = 1.0\n",
        "epsilon_end = 0.001 # <<<---\n",
        "epsilon_decay_episodes = 600\n",
        "buffer_size = 10_000\n",
        "batch_size = 64\n",
        "target_update_freq = 100\n",
        "print_every = 50\n",
        "smoothing_window = 50"
      ]
    },
    {
      "cell_type": "code",
      "execution_count": null,
      "metadata": {},
      "outputs": [],
      "source": [
        "# --- Entorno ---\n",
        "env = gym.make('ALE/Boxing-v5', render_mode=ra)\n",
        "n_observations = env.observation_space.shape[0]\n",
        "n_actions = env.action_space.n"
      ]
    },
    {
      "cell_type": "code",
      "execution_count": 12,
      "metadata": {},
      "outputs": [
        {
          "name": "stdout",
          "output_type": "stream",
          "text": [
            "Observaciones: 210, Acciones: 18\n"
          ]
        }
      ],
      "source": [
        "print(f\"Observaciones: {n_observations}, Acciones: {n_actions}\")"
      ]
    },
    {
      "cell_type": "code",
      "execution_count": null,
      "metadata": {},
      "outputs": [],
      "source": []
    },
    {
      "cell_type": "code",
      "execution_count": 6,
      "metadata": {},
      "outputs": [],
      "source": [
        "# --- Red Neuronal (Q-Network) ---\n",
        "def create_q_network():\n",
        "    return nn.Sequential(\n",
        "        nn.Linear(n_observations, 128),\n",
        "        nn.ReLU(),\n",
        "        nn.Linear(128, 128),\n",
        "        nn.ReLU(),\n",
        "        nn.Linear(128, n_actions)\n",
        "    )"
      ]
    },
    {
      "cell_type": "code",
      "execution_count": 7,
      "metadata": {},
      "outputs": [],
      "source": [
        "q_network = create_q_network()\n",
        "target_network = create_q_network()\n",
        "target_network.load_state_dict(q_network.state_dict())\n",
        "target_network.eval()\n",
        "\n",
        "optimizer = optim.Adam(q_network.parameters(), lr=learning_rate)\n",
        "loss_fn = nn.MSELoss()"
      ]
    },
    {
      "cell_type": "code",
      "execution_count": 8,
      "metadata": {},
      "outputs": [],
      "source": [
        "# --- Replay Buffer ---\n",
        "Transition = collections.namedtuple('Transition',\n",
        "                                    ('state', 'action', 'reward', 'next_state', 'done'))\n",
        "replay_buffer = collections.deque(maxlen=buffer_size)"
      ]
    },
    {
      "cell_type": "code",
      "execution_count": 9,
      "metadata": {},
      "outputs": [],
      "source": [
        "# --- Función para actualizar la Red Objetivo ---\n",
        "def update_target_network():\n",
        "    target_network.load_state_dict(q_network.state_dict())"
      ]
    },
    {
      "cell_type": "code",
      "execution_count": 10,
      "metadata": {},
      "outputs": [],
      "source": [
        "\n",
        "# --- Entrenamiento ---\n",
        "global_step = 0\n",
        "epsilon = epsilon_start\n",
        "episode_rewards_history = []"
      ]
    },
    {
      "cell_type": "code",
      "execution_count": 11,
      "metadata": {
        "colab": {
          "base_uri": "https://localhost:8080/",
          "height": 1000
        },
        "id": "Za6WX5UCkLpA",
        "outputId": "c3c9d3db-9d4f-4ca8-ce44-78d6095c5abd"
      },
      "outputs": [
        {
          "name": "stdout",
          "output_type": "stream",
          "text": [
            "--- Iniciando Entrenamiento (Double DQN) ---\n"
          ]
        },
        {
          "ename": "RuntimeError",
          "evalue": "mat1 and mat2 shapes cannot be multiplied (2150400x3 and 210x128)",
          "output_type": "error",
          "traceback": [
            "\u001b[0;31m---------------------------------------------------------------------------\u001b[0m",
            "\u001b[0;31mRuntimeError\u001b[0m                              Traceback (most recent call last)",
            "Cell \u001b[0;32mIn[11], line 45\u001b[0m\n\u001b[1;32m     42\u001b[0m action_batch \u001b[38;5;241m=\u001b[39m torch\u001b[38;5;241m.\u001b[39mcat(batch\u001b[38;5;241m.\u001b[39maction)\n\u001b[1;32m     43\u001b[0m reward_batch \u001b[38;5;241m=\u001b[39m torch\u001b[38;5;241m.\u001b[39mcat(batch\u001b[38;5;241m.\u001b[39mreward)\n\u001b[0;32m---> 45\u001b[0m state_action_values \u001b[38;5;241m=\u001b[39m \u001b[43mq_network\u001b[49m\u001b[43m(\u001b[49m\u001b[43mstate_batch\u001b[49m\u001b[43m)\u001b[49m\u001b[38;5;241m.\u001b[39mgather(\u001b[38;5;241m1\u001b[39m, action_batch)\u001b[38;5;241m.\u001b[39msqueeze(\u001b[38;5;241m1\u001b[39m)\n\u001b[1;32m     47\u001b[0m \u001b[38;5;66;03m# --- INICIO DE LA MODIFICACIÓN DOUBLE DQN ---\u001b[39;00m\n\u001b[1;32m     48\u001b[0m next_state_values \u001b[38;5;241m=\u001b[39m torch\u001b[38;5;241m.\u001b[39mzeros(batch_size)\n",
            "File \u001b[0;32m/opt/anaconda3/envs/Fabricio/lib/python3.10/site-packages/torch/nn/modules/module.py:1553\u001b[0m, in \u001b[0;36mModule._wrapped_call_impl\u001b[0;34m(self, *args, **kwargs)\u001b[0m\n\u001b[1;32m   1551\u001b[0m     \u001b[38;5;28;01mreturn\u001b[39;00m \u001b[38;5;28mself\u001b[39m\u001b[38;5;241m.\u001b[39m_compiled_call_impl(\u001b[38;5;241m*\u001b[39margs, \u001b[38;5;241m*\u001b[39m\u001b[38;5;241m*\u001b[39mkwargs)  \u001b[38;5;66;03m# type: ignore[misc]\u001b[39;00m\n\u001b[1;32m   1552\u001b[0m \u001b[38;5;28;01melse\u001b[39;00m:\n\u001b[0;32m-> 1553\u001b[0m     \u001b[38;5;28;01mreturn\u001b[39;00m \u001b[38;5;28;43mself\u001b[39;49m\u001b[38;5;241;43m.\u001b[39;49m\u001b[43m_call_impl\u001b[49m\u001b[43m(\u001b[49m\u001b[38;5;241;43m*\u001b[39;49m\u001b[43margs\u001b[49m\u001b[43m,\u001b[49m\u001b[43m \u001b[49m\u001b[38;5;241;43m*\u001b[39;49m\u001b[38;5;241;43m*\u001b[39;49m\u001b[43mkwargs\u001b[49m\u001b[43m)\u001b[49m\n",
            "File \u001b[0;32m/opt/anaconda3/envs/Fabricio/lib/python3.10/site-packages/torch/nn/modules/module.py:1562\u001b[0m, in \u001b[0;36mModule._call_impl\u001b[0;34m(self, *args, **kwargs)\u001b[0m\n\u001b[1;32m   1557\u001b[0m \u001b[38;5;66;03m# If we don't have any hooks, we want to skip the rest of the logic in\u001b[39;00m\n\u001b[1;32m   1558\u001b[0m \u001b[38;5;66;03m# this function, and just call forward.\u001b[39;00m\n\u001b[1;32m   1559\u001b[0m \u001b[38;5;28;01mif\u001b[39;00m \u001b[38;5;129;01mnot\u001b[39;00m (\u001b[38;5;28mself\u001b[39m\u001b[38;5;241m.\u001b[39m_backward_hooks \u001b[38;5;129;01mor\u001b[39;00m \u001b[38;5;28mself\u001b[39m\u001b[38;5;241m.\u001b[39m_backward_pre_hooks \u001b[38;5;129;01mor\u001b[39;00m \u001b[38;5;28mself\u001b[39m\u001b[38;5;241m.\u001b[39m_forward_hooks \u001b[38;5;129;01mor\u001b[39;00m \u001b[38;5;28mself\u001b[39m\u001b[38;5;241m.\u001b[39m_forward_pre_hooks\n\u001b[1;32m   1560\u001b[0m         \u001b[38;5;129;01mor\u001b[39;00m _global_backward_pre_hooks \u001b[38;5;129;01mor\u001b[39;00m _global_backward_hooks\n\u001b[1;32m   1561\u001b[0m         \u001b[38;5;129;01mor\u001b[39;00m _global_forward_hooks \u001b[38;5;129;01mor\u001b[39;00m _global_forward_pre_hooks):\n\u001b[0;32m-> 1562\u001b[0m     \u001b[38;5;28;01mreturn\u001b[39;00m \u001b[43mforward_call\u001b[49m\u001b[43m(\u001b[49m\u001b[38;5;241;43m*\u001b[39;49m\u001b[43margs\u001b[49m\u001b[43m,\u001b[49m\u001b[43m \u001b[49m\u001b[38;5;241;43m*\u001b[39;49m\u001b[38;5;241;43m*\u001b[39;49m\u001b[43mkwargs\u001b[49m\u001b[43m)\u001b[49m\n\u001b[1;32m   1564\u001b[0m \u001b[38;5;28;01mtry\u001b[39;00m:\n\u001b[1;32m   1565\u001b[0m     result \u001b[38;5;241m=\u001b[39m \u001b[38;5;28;01mNone\u001b[39;00m\n",
            "File \u001b[0;32m/opt/anaconda3/envs/Fabricio/lib/python3.10/site-packages/torch/nn/modules/container.py:219\u001b[0m, in \u001b[0;36mSequential.forward\u001b[0;34m(self, input)\u001b[0m\n\u001b[1;32m    217\u001b[0m \u001b[38;5;28;01mdef\u001b[39;00m \u001b[38;5;21mforward\u001b[39m(\u001b[38;5;28mself\u001b[39m, \u001b[38;5;28minput\u001b[39m):\n\u001b[1;32m    218\u001b[0m     \u001b[38;5;28;01mfor\u001b[39;00m module \u001b[38;5;129;01min\u001b[39;00m \u001b[38;5;28mself\u001b[39m:\n\u001b[0;32m--> 219\u001b[0m         \u001b[38;5;28minput\u001b[39m \u001b[38;5;241m=\u001b[39m \u001b[43mmodule\u001b[49m\u001b[43m(\u001b[49m\u001b[38;5;28;43minput\u001b[39;49m\u001b[43m)\u001b[49m\n\u001b[1;32m    220\u001b[0m     \u001b[38;5;28;01mreturn\u001b[39;00m \u001b[38;5;28minput\u001b[39m\n",
            "File \u001b[0;32m/opt/anaconda3/envs/Fabricio/lib/python3.10/site-packages/torch/nn/modules/module.py:1553\u001b[0m, in \u001b[0;36mModule._wrapped_call_impl\u001b[0;34m(self, *args, **kwargs)\u001b[0m\n\u001b[1;32m   1551\u001b[0m     \u001b[38;5;28;01mreturn\u001b[39;00m \u001b[38;5;28mself\u001b[39m\u001b[38;5;241m.\u001b[39m_compiled_call_impl(\u001b[38;5;241m*\u001b[39margs, \u001b[38;5;241m*\u001b[39m\u001b[38;5;241m*\u001b[39mkwargs)  \u001b[38;5;66;03m# type: ignore[misc]\u001b[39;00m\n\u001b[1;32m   1552\u001b[0m \u001b[38;5;28;01melse\u001b[39;00m:\n\u001b[0;32m-> 1553\u001b[0m     \u001b[38;5;28;01mreturn\u001b[39;00m \u001b[38;5;28;43mself\u001b[39;49m\u001b[38;5;241;43m.\u001b[39;49m\u001b[43m_call_impl\u001b[49m\u001b[43m(\u001b[49m\u001b[38;5;241;43m*\u001b[39;49m\u001b[43margs\u001b[49m\u001b[43m,\u001b[49m\u001b[43m \u001b[49m\u001b[38;5;241;43m*\u001b[39;49m\u001b[38;5;241;43m*\u001b[39;49m\u001b[43mkwargs\u001b[49m\u001b[43m)\u001b[49m\n",
            "File \u001b[0;32m/opt/anaconda3/envs/Fabricio/lib/python3.10/site-packages/torch/nn/modules/module.py:1562\u001b[0m, in \u001b[0;36mModule._call_impl\u001b[0;34m(self, *args, **kwargs)\u001b[0m\n\u001b[1;32m   1557\u001b[0m \u001b[38;5;66;03m# If we don't have any hooks, we want to skip the rest of the logic in\u001b[39;00m\n\u001b[1;32m   1558\u001b[0m \u001b[38;5;66;03m# this function, and just call forward.\u001b[39;00m\n\u001b[1;32m   1559\u001b[0m \u001b[38;5;28;01mif\u001b[39;00m \u001b[38;5;129;01mnot\u001b[39;00m (\u001b[38;5;28mself\u001b[39m\u001b[38;5;241m.\u001b[39m_backward_hooks \u001b[38;5;129;01mor\u001b[39;00m \u001b[38;5;28mself\u001b[39m\u001b[38;5;241m.\u001b[39m_backward_pre_hooks \u001b[38;5;129;01mor\u001b[39;00m \u001b[38;5;28mself\u001b[39m\u001b[38;5;241m.\u001b[39m_forward_hooks \u001b[38;5;129;01mor\u001b[39;00m \u001b[38;5;28mself\u001b[39m\u001b[38;5;241m.\u001b[39m_forward_pre_hooks\n\u001b[1;32m   1560\u001b[0m         \u001b[38;5;129;01mor\u001b[39;00m _global_backward_pre_hooks \u001b[38;5;129;01mor\u001b[39;00m _global_backward_hooks\n\u001b[1;32m   1561\u001b[0m         \u001b[38;5;129;01mor\u001b[39;00m _global_forward_hooks \u001b[38;5;129;01mor\u001b[39;00m _global_forward_pre_hooks):\n\u001b[0;32m-> 1562\u001b[0m     \u001b[38;5;28;01mreturn\u001b[39;00m \u001b[43mforward_call\u001b[49m\u001b[43m(\u001b[49m\u001b[38;5;241;43m*\u001b[39;49m\u001b[43margs\u001b[49m\u001b[43m,\u001b[49m\u001b[43m \u001b[49m\u001b[38;5;241;43m*\u001b[39;49m\u001b[38;5;241;43m*\u001b[39;49m\u001b[43mkwargs\u001b[49m\u001b[43m)\u001b[49m\n\u001b[1;32m   1564\u001b[0m \u001b[38;5;28;01mtry\u001b[39;00m:\n\u001b[1;32m   1565\u001b[0m     result \u001b[38;5;241m=\u001b[39m \u001b[38;5;28;01mNone\u001b[39;00m\n",
            "File \u001b[0;32m/opt/anaconda3/envs/Fabricio/lib/python3.10/site-packages/torch/nn/modules/linear.py:117\u001b[0m, in \u001b[0;36mLinear.forward\u001b[0;34m(self, input)\u001b[0m\n\u001b[1;32m    116\u001b[0m \u001b[38;5;28;01mdef\u001b[39;00m \u001b[38;5;21mforward\u001b[39m(\u001b[38;5;28mself\u001b[39m, \u001b[38;5;28minput\u001b[39m: Tensor) \u001b[38;5;241m-\u001b[39m\u001b[38;5;241m>\u001b[39m Tensor:\n\u001b[0;32m--> 117\u001b[0m     \u001b[38;5;28;01mreturn\u001b[39;00m \u001b[43mF\u001b[49m\u001b[38;5;241;43m.\u001b[39;49m\u001b[43mlinear\u001b[49m\u001b[43m(\u001b[49m\u001b[38;5;28;43minput\u001b[39;49m\u001b[43m,\u001b[49m\u001b[43m \u001b[49m\u001b[38;5;28;43mself\u001b[39;49m\u001b[38;5;241;43m.\u001b[39;49m\u001b[43mweight\u001b[49m\u001b[43m,\u001b[49m\u001b[43m \u001b[49m\u001b[38;5;28;43mself\u001b[39;49m\u001b[38;5;241;43m.\u001b[39;49m\u001b[43mbias\u001b[49m\u001b[43m)\u001b[49m\n",
            "\u001b[0;31mRuntimeError\u001b[0m: mat1 and mat2 shapes cannot be multiplied (2150400x3 and 210x128)"
          ]
        }
      ],
      "source": [
        "print(\"--- Iniciando Entrenamiento (Double DQN) ---\")\n",
        "for episode in range(max_episodes):\n",
        "    obs, info = env.reset()\n",
        "    state = torch.tensor(obs, dtype=torch.float32).unsqueeze(0)\n",
        "    episode_reward = 0\n",
        "    episode_steps = 0\n",
        "\n",
        "    for step in range(max_steps_per_episode):\n",
        "        global_step += 1\n",
        "        episode_steps += 1\n",
        "\n",
        "        if random.random() < epsilon:\n",
        "            action = torch.tensor([[env.action_space.sample()]], dtype=torch.long)\n",
        "        else:\n",
        "            with torch.no_grad():\n",
        "                q_values = q_network(state)\n",
        "                action = q_values.max(1)[1].view(1, 1)\n",
        "\n",
        "        next_obs, reward, terminated, truncated, info = env.step(action.item())\n",
        "        done = terminated or truncated\n",
        "        episode_reward += reward\n",
        "\n",
        "        reward_tensor = torch.tensor([reward], dtype=torch.float32)\n",
        "        if terminated:\n",
        "            next_state = None\n",
        "        else:\n",
        "            next_state = torch.tensor(next_obs, dtype=torch.float32).unsqueeze(0)\n",
        "        done_tensor = torch.tensor([done], dtype=torch.float32)\n",
        "\n",
        "        replay_buffer.append(Transition(state, action, reward_tensor, next_state, done_tensor))\n",
        "\n",
        "        state = next_state\n",
        "\n",
        "        if len(replay_buffer) >= batch_size:\n",
        "            transitions = random.sample(replay_buffer, batch_size)\n",
        "            batch = Transition(*zip(*transitions))\n",
        "\n",
        "            non_final_mask = torch.tensor(tuple(map(lambda s: s is not None, batch.next_state)), dtype=torch.bool)\n",
        "            non_final_next_states = torch.cat([s for s in batch.next_state if s is not None])\n",
        "\n",
        "            state_batch = torch.cat(batch.state)\n",
        "            action_batch = torch.cat(batch.action)\n",
        "            reward_batch = torch.cat(batch.reward)\n",
        "\n",
        "            state_action_values = q_network(state_batch).gather(1, action_batch).squeeze(1)\n",
        "\n",
        "            # --- INICIO DE LA MODIFICACIÓN DOUBLE DQN ---\n",
        "            next_state_values = torch.zeros(batch_size)\n",
        "            with torch.no_grad():\n",
        "                # 1. Seleccionar la MEJOR acción para s' usando la red ONLINE\n",
        "                online_next_q_values = q_network(non_final_next_states)\n",
        "                online_best_next_actions = online_next_q_values.max(1)[1].unsqueeze(1) # Indices (argmax)\n",
        "\n",
        "                # 2. Evaluar el valor Q de ESA acción seleccionada usando la red TARGET\n",
        "                target_next_q_values = target_network(non_final_next_states)\n",
        "                # Usamos gather para obtener Q_target(s', argmax_a' Q_online(s', a'))\n",
        "                selected_target_next_q_values = target_next_q_values.gather(1, online_best_next_actions).squeeze(1)\n",
        "\n",
        "                # Asignar los valores calculados con DDQN a las entradas correspondientes\n",
        "                next_state_values[non_final_mask] = selected_target_next_q_values\n",
        "            # --- FIN DE LA MODIFICACIÓN DOUBLE DQN ---\n",
        "\n",
        "            expected_state_action_values = reward_batch + (gamma * next_state_values)\n",
        "\n",
        "            loss = loss_fn(state_action_values, expected_state_action_values)\n",
        "\n",
        "            optimizer.zero_grad()\n",
        "            loss.backward()\n",
        "            optimizer.step()\n",
        "\n",
        "        if global_step % target_update_freq == 0:\n",
        "            update_target_network()\n",
        "\n",
        "        if done:\n",
        "            break\n",
        "\n",
        "    episode_rewards_history.append(episode_reward)\n",
        "    epsilon = max(epsilon_end, epsilon_start - (episode / epsilon_decay_episodes) * (epsilon_start - epsilon_end))\n",
        "\n",
        "    if (episode + 1) % print_every == 0:\n",
        "        avg_reward = np.mean(episode_rewards_history[-print_every:])\n",
        "        print(f'Episodio: {episode + 1}/{max_episodes}, Pasos: {episode_steps}, Recompensa Promedio ({print_every} ep): {avg_reward:.2f}, Epsilon: {epsilon:.3f}')\n",
        "\n",
        "print(\"--- Entrenamiento Finalizado ---\")\n",
        "\n",
        "\n",
        "\n"
      ]
    },
    {
      "cell_type": "code",
      "execution_count": null,
      "metadata": {},
      "outputs": [],
      "source": [
        "# --- Graficar Curva de Convergencia ---\n",
        "print(\"\\n--- Generando Gráfico de Convergencia ---\")\n",
        "plt.figure(figsize=(12, 6))\n",
        "plt.plot(range(1, max_episodes + 1), episode_rewards_history, label='Recompensa por Episodio', alpha=0.4)\n",
        "if len(episode_rewards_history) >= smoothing_window:\n",
        "    rewards_smoothed = np.convolve(episode_rewards_history, np.ones(smoothing_window)/smoothing_window, mode='valid')\n",
        "    plt.plot(range(smoothing_window, max_episodes + 1), rewards_smoothed, label=f'Media Móvil ({smoothing_window} episodios)', color='red', linewidth=2)\n",
        "plt.xlabel(\"Episodio\")\n",
        "plt.ylabel(\"Recompensa Total\")\n",
        "plt.title(\"Convergencia de Recompensa Double DQN en CartPole-v1\") # <-- Título actualizado\n",
        "plt.legend()\n",
        "plt.grid(True)\n",
        "plt.show()"
      ]
    },
    {
      "cell_type": "code",
      "execution_count": null,
      "metadata": {},
      "outputs": [],
      "source": [
        "# --- Test (Evaluación SIN RENDERIZADO) ---\n",
        "print(\"\\n--- prueba con la política aprendida (Evaluación) ---\")\n",
        "eval_env = gym.make('CartPole-v1')\n",
        "total_eval_reward = 0\n",
        "num_eval_episodes = 10\n",
        "\n",
        "for i in range(num_eval_episodes):\n",
        "    obs, info = eval_env.reset()\n",
        "    state = torch.tensor(obs, dtype=torch.float32).unsqueeze(0)\n",
        "    done = False\n",
        "    episode_eval_reward = 0\n",
        "    episode_steps = 0\n",
        "    while not done and episode_steps < max_steps_per_episode:\n",
        "        with torch.no_grad():\n",
        "            q_values = q_network(state)\n",
        "            action = q_values.max(1)[1].view(1, 1)\n",
        "\n",
        "        obs, reward, terminated, truncated, info = eval_env.step(action.item())\n",
        "        done = terminated or truncated\n",
        "        episode_eval_reward += reward\n",
        "        episode_steps += 1\n",
        "\n",
        "        if not done:\n",
        "            state = torch.tensor(obs, dtype=torch.float32).unsqueeze(0)\n",
        "\n",
        "    print(f'Evaluación {i+1}, Recompensa: {episode_eval_reward}, Pasos: {episode_steps}')\n",
        "    total_eval_reward += episode_eval_reward\n",
        "\n",
        "print(f'\\nRecompensa Promedio en Evaluación ({num_eval_episodes} episodios): {total_eval_reward / num_eval_episodes:.2f}')\n",
        "eval_env.close()\n",
        "env.close()"
      ]
    }
  ],
  "metadata": {
    "colab": {
      "provenance": []
    },
    "kernelspec": {
      "display_name": "Fabricio",
      "language": "python",
      "name": "python3"
    },
    "language_info": {
      "codemirror_mode": {
        "name": "ipython",
        "version": 3
      },
      "file_extension": ".py",
      "mimetype": "text/x-python",
      "name": "python",
      "nbconvert_exporter": "python",
      "pygments_lexer": "ipython3",
      "version": "3.10.13"
    }
  },
  "nbformat": 4,
  "nbformat_minor": 0
}
